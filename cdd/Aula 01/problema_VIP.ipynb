{
 "cells": [
  {
   "cell_type": "code",
   "execution_count": 9,
   "id": "e21d220f-c812-4328-9fdd-227b35151446",
   "metadata": {},
   "outputs": [
    {
     "name": "stdout",
     "output_type": "stream",
     "text": [
      "O valor final da compra foi R$90.\n"
     ]
    }
   ],
   "source": [
    "# atribui ao cliente uma característica VIP ou não\n",
    "is_VIP = False\n",
    "\n",
    "# atribui um valor à compra\n",
    "valor_compra = 90\n",
    "\n",
    "valor_final = 0\n",
    "\n",
    "# verifica se o cliente é, de fato, VIP:\n",
    "if is_VIP == True:\n",
    "    \n",
    "    # se o cliente é VIP, aplica o desconto de 20%\n",
    "    valor_final = valor_compra * 0.8\n",
    "    \n",
    "    print(f'O valor final da compra foi R${valor_final}. Desconto VIP aplicado.')\n",
    "    \n",
    "elif is_VIP == False and valor_compra >= 100:\n",
    "\n",
    "    # se o cliente não for VIP mas o valor final for maior que 100, aplica o desconto de 10%\n",
    "    valor_final = valor_compra * 0.9\n",
    "    \n",
    "    print(f'O valor final da compra foi R${valor_final}.')\n",
    "    \n",
    "else:\n",
    "\n",
    "    # na ausência de qualquer um dos dois requisitos acima, não aplica nenhum desconto\n",
    "    print(f'O valor final da compra foi R${valor_compra}.')"
   ]
  },
  {
   "cell_type": "code",
   "execution_count": null,
   "id": "b46f3a39-edb9-4392-8015-ea3a44149f60",
   "metadata": {},
   "outputs": [],
   "source": [
    "# atribui ao cliente uma característica VIP ou não\n",
    "is_VIP = False\n",
    "\n",
    "# atribui um valor à compra\n",
    "valor_compra = 90\n",
    "\n",
    "valor_final = 0\n",
    "\n",
    "# verifica se o cliente é, de fato, VIP:\n",
    "if is_VIP == True:\n",
    "    valor_final = valor_compra * 0.8\n",
    "    print(f'O valor final da compra foi R${valor_final}. Desconto VIP aplicado.')\n",
    "elif is_VIP == False and valor_compra >= 100:\n",
    "    valor_final = valor_compra * 0.9\n",
    "    print(f'O valor final da compra foi R${valor_final}.')\n",
    "else:\n",
    "    print(f'O valor final da compra foi R${valor_compra}.')"
   ]
  }
 ],
 "metadata": {
  "kernelspec": {
   "display_name": "Python 3 (ipykernel)",
   "language": "python",
   "name": "python3"
  },
  "language_info": {
   "codemirror_mode": {
    "name": "ipython",
    "version": 3
   },
   "file_extension": ".py",
   "mimetype": "text/x-python",
   "name": "python",
   "nbconvert_exporter": "python",
   "pygments_lexer": "ipython3",
   "version": "3.10.11"
  }
 },
 "nbformat": 4,
 "nbformat_minor": 5
}
