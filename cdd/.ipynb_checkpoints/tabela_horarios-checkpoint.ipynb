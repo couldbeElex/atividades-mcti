{
 "cells": [
  {
   "cell_type": "markdown",
   "id": "c62deddf-446d-45ec-b84f-99ccb5215fbd",
   "metadata": {},
   "source": [
    "### Em vez de organizar uma tabela bonitinha no Excel/Spreadsheets, eu decidi criar uma tabela e visualizá-la utilizando o Pandas.\n",
    "\n",
    "A atividade pede para que eu e os meus colegas coletemos informações sobre:\n",
    "\n",
    "1. O tempo que cada um leva pra chegar à escola\n",
    "2. O tempo que cada um passa nas aulas\n",
    "3. O tempo que cada um passa nos intervalos\n",
    "4. O tempo que cada um leva no deslocamento de volta para casa\n",
    "\n",
    "Devemos usar esses dados para entender como as aulas e os intervalos podem ser melhores distribuídos para tornar o horário escolar mais equilibrado para todos.\n",
    "\n",
    "Como a oficina tem um caráter originalmente coletivo mas a atividade atribuída é de caráter individual, algumas alterações pontuais serão feitas:\n",
    "\n",
    "1. Apenas o meu tempo vai ser levado em consideração e\n",
    "2. Se eu conseguir, alguns colegas de curso vão me fornecer os dados deles, de forma que eu possa montar uma tabelinha mais completa. :)\n",
    "\n",
    "Depois de preparar esses dados, eu farei uma breve análise considerando o tempo que eu gasto em cada atividade ao longo do dia. O ponto final da oficina sugeria uma \"discussão com os colegas para melhorar o cronograma da escola\" mas, como no meu caso é ensino superior público, eu acredito que não haja muito espaço pra discussão de cronogramas, não. :P\n",
    "\n",
    "Mãos à obra!"
   ]
  },
  {
   "cell_type": "code",
   "execution_count": 20,
   "id": "1516084b-fa01-4f82-8dcd-b76ece9a37cd",
   "metadata": {},
   "outputs": [
    {
     "name": "stdout",
     "output_type": "stream",
     "text": [
      "Requirement already satisfied: pandas in /home/elexei/.pyenv/versions/3.10.11/lib/python3.10/site-packages (2.2.3)\n",
      "Requirement already satisfied: tzdata>=2022.7 in /home/elexei/.pyenv/versions/3.10.11/lib/python3.10/site-packages (from pandas) (2024.2)\n",
      "Requirement already satisfied: python-dateutil>=2.8.2 in /home/elexei/.pyenv/versions/3.10.11/lib/python3.10/site-packages (from pandas) (2.9.0.post0)\n",
      "Requirement already satisfied: numpy>=1.22.4 in /home/elexei/.pyenv/versions/3.10.11/lib/python3.10/site-packages (from pandas) (2.1.2)\n",
      "Requirement already satisfied: pytz>=2020.1 in /home/elexei/.pyenv/versions/3.10.11/lib/python3.10/site-packages (from pandas) (2024.2)\n",
      "Requirement already satisfied: six>=1.5 in /home/elexei/.pyenv/versions/3.10.11/lib/python3.10/site-packages (from python-dateutil>=2.8.2->pandas) (1.16.0)\n",
      "\n",
      "\u001b[1m[\u001b[0m\u001b[34;49mnotice\u001b[0m\u001b[1;39;49m]\u001b[0m\u001b[39;49m A new release of pip is available: \u001b[0m\u001b[31;49m23.0.1\u001b[0m\u001b[39;49m -> \u001b[0m\u001b[32;49m24.2\u001b[0m\n",
      "\u001b[1m[\u001b[0m\u001b[34;49mnotice\u001b[0m\u001b[1;39;49m]\u001b[0m\u001b[39;49m To update, run: \u001b[0m\u001b[32;49mpip install --upgrade pip\u001b[0m\n",
      "Requirement already satisfied: numpy in /home/elexei/.pyenv/versions/3.10.11/lib/python3.10/site-packages (2.1.2)\n",
      "\n",
      "\u001b[1m[\u001b[0m\u001b[34;49mnotice\u001b[0m\u001b[1;39;49m]\u001b[0m\u001b[39;49m A new release of pip is available: \u001b[0m\u001b[31;49m23.0.1\u001b[0m\u001b[39;49m -> \u001b[0m\u001b[32;49m24.2\u001b[0m\n",
      "\u001b[1m[\u001b[0m\u001b[34;49mnotice\u001b[0m\u001b[1;39;49m]\u001b[0m\u001b[39;49m To update, run: \u001b[0m\u001b[32;49mpip install --upgrade pip\u001b[0m\n"
     ]
    }
   ],
   "source": [
    "# primeiro, a gente baixa cos pip - aqui, a gente vai trabalhar com pandas (pra organizar os números) e o numpy (pra deixar os números belos)\n",
    "\n",
    "!pip install pandas\n",
    "!pip install numpy"
   ]
  },
  {
   "cell_type": "code",
   "execution_count": 21,
   "id": "0a233248-b9c5-4419-9cf1-05d5d7cc239b",
   "metadata": {},
   "outputs": [],
   "source": [
    "# e agora a gente importa os negócio\n",
    "\n",
    "import pandas as pd\n",
    "import numpy as np"
   ]
  },
  {
   "cell_type": "code",
   "execution_count": 26,
   "id": "ca8aa845-aca7-426a-9ea0-c51ec96ef3e2",
   "metadata": {},
   "outputs": [],
   "source": [
    "# começar populando, manualmente, um dicionário python composto por pessoas, seus dias na semana, momentos do dia e o tempo aplicado neles\n",
    "weekday_activities = {\n",
    "    # De quem estamos falando?\n",
    "    'Rafael' : {\n",
    "        # De qual dia da semana?\n",
    "        'Segunda' : {\n",
    "            # De qual parte do dia? Quanto tempo, em minutos, leva em média?\n",
    "            'Ida' : {\n",
    "                60\n",
    "            },\n",
    "            'Aula' : {\n",
    "                40 * 4\n",
    "            },\n",
    "            'Intervalo' : {\n",
    "                20\n",
    "            },\n",
    "            'Volta' : {\n",
    "                90\n",
    "            },\n",
    "        },\n",
    "        'Terça' : {\n",
    "            # De qual parte do dia? Quanto tempo, em minutos, leva em média?\n",
    "            'Ida' : 60,\n",
    "            'Aula' : 40 * 2,\n",
    "            'Intervalo' : 20,\n",
    "            'Volta' : 60,\n",
    "        },\n",
    "        'Quarta' : {\n",
    "            # De qual parte do dia? Quanto tempo, em minutos, leva em média?\n",
    "            'Ida' : 60,\n",
    "            'Aula' : 40 * 2,\n",
    "            'Intervalo' : 20,\n",
    "            'Volta' : 90,\n",
    "        },\n",
    "        'Quinta' : {\n",
    "            # De qual parte do dia? Quanto tempo, em minutos, leva em média?\n",
    "            'Ida' : 60,\n",
    "            'Aula' : 40 * 4,\n",
    "            'Intervalo' : 20,\n",
    "            'Volta' : 90,\n",
    "        },\n",
    "        'Sexta' : {\n",
    "            # De qual parte do dia? Quanto tempo, em minutos, leva em média?\n",
    "            'Ida' : 60,\n",
    "            'Aula' : 40 * 1,\n",
    "            'Intervalo' : 20,\n",
    "            'Volta' : 60,\n",
    "        },\n",
    "    },\n",
    "}"
   ]
  },
  {
   "cell_type": "code",
   "execution_count": 29,
   "id": "2c8dd64f-9e3d-4de9-b607-15bfbd1c33c4",
   "metadata": {},
   "outputs": [
    {
     "data": {
      "text/html": [
       "<div>\n",
       "<style scoped>\n",
       "    .dataframe tbody tr th:only-of-type {\n",
       "        vertical-align: middle;\n",
       "    }\n",
       "\n",
       "    .dataframe tbody tr th {\n",
       "        vertical-align: top;\n",
       "    }\n",
       "\n",
       "    .dataframe thead th {\n",
       "        text-align: right;\n",
       "    }\n",
       "</style>\n",
       "<table border=\"1\" class=\"dataframe\">\n",
       "  <thead>\n",
       "    <tr style=\"text-align: right;\">\n",
       "      <th></th>\n",
       "      <th>Rafael</th>\n",
       "    </tr>\n",
       "  </thead>\n",
       "  <tbody>\n",
       "    <tr>\n",
       "      <th>Segunda</th>\n",
       "      <td>{'Ida': {60}, 'Aula': {160}, 'Intervalo': {20}...</td>\n",
       "    </tr>\n",
       "    <tr>\n",
       "      <th>Terça</th>\n",
       "      <td>{'Ida': 60, 'Aula': 80, 'Intervalo': 20, 'Volt...</td>\n",
       "    </tr>\n",
       "    <tr>\n",
       "      <th>Quarta</th>\n",
       "      <td>{'Ida': 60, 'Aula': 80, 'Intervalo': 20, 'Volt...</td>\n",
       "    </tr>\n",
       "    <tr>\n",
       "      <th>Quinta</th>\n",
       "      <td>{'Ida': 60, 'Aula': 160, 'Intervalo': 20, 'Vol...</td>\n",
       "    </tr>\n",
       "    <tr>\n",
       "      <th>Sexta</th>\n",
       "      <td>{'Ida': 60, 'Aula': 40, 'Intervalo': 20, 'Volt...</td>\n",
       "    </tr>\n",
       "  </tbody>\n",
       "</table>\n",
       "</div>"
      ],
      "text/plain": [
       "                                                    Rafael\n",
       "Segunda  {'Ida': {60}, 'Aula': {160}, 'Intervalo': {20}...\n",
       "Terça    {'Ida': 60, 'Aula': 80, 'Intervalo': 20, 'Volt...\n",
       "Quarta   {'Ida': 60, 'Aula': 80, 'Intervalo': 20, 'Volt...\n",
       "Quinta   {'Ida': 60, 'Aula': 160, 'Intervalo': 20, 'Vol...\n",
       "Sexta    {'Ida': 60, 'Aula': 40, 'Intervalo': 20, 'Volt..."
      ]
     },
     "execution_count": 29,
     "metadata": {},
     "output_type": "execute_result"
    }
   ],
   "source": [
    "# Primeiro de tudo, vamo criar um DataFrame pandas e atribuí-lo a uma variável? fica melhor de manipular assim.\n",
    "df = pd.DataFrame(weekday_activities)\n",
    "\n",
    "df"
   ]
  },
  {
   "cell_type": "code",
   "execution_count": 25,
   "id": "2da1803b-82f0-48a0-9544-087f46df6cc1",
   "metadata": {},
   "outputs": [
    {
     "data": {
      "text/html": [
       "<div>\n",
       "<style scoped>\n",
       "    .dataframe tbody tr th:only-of-type {\n",
       "        vertical-align: middle;\n",
       "    }\n",
       "\n",
       "    .dataframe tbody tr th {\n",
       "        vertical-align: top;\n",
       "    }\n",
       "\n",
       "    .dataframe thead th {\n",
       "        text-align: right;\n",
       "    }\n",
       "</style>\n",
       "<table border=\"1\" class=\"dataframe\">\n",
       "  <thead>\n",
       "    <tr style=\"text-align: right;\">\n",
       "      <th></th>\n",
       "      <th>Rafael</th>\n",
       "    </tr>\n",
       "  </thead>\n",
       "  <tbody>\n",
       "    <tr>\n",
       "      <th>Segunda</th>\n",
       "      <td>{'Ida': 60, 'Aula': 160, 'Intervalo': 20, 'Vol...</td>\n",
       "    </tr>\n",
       "    <tr>\n",
       "      <th>Terça</th>\n",
       "      <td>{'Ida': 60, 'Aula': 80, 'Intervalo': 20, 'Volt...</td>\n",
       "    </tr>\n",
       "    <tr>\n",
       "      <th>Quarta</th>\n",
       "      <td>{'Ida': 60, 'Aula': 80, 'Intervalo': 20, 'Volt...</td>\n",
       "    </tr>\n",
       "    <tr>\n",
       "      <th>Quinta</th>\n",
       "      <td>{'Ida': 60, 'Aula': 160, 'Intervalo': 20, 'Vol...</td>\n",
       "    </tr>\n",
       "    <tr>\n",
       "      <th>Sexta</th>\n",
       "      <td>{'Ida': 60, 'Aula': 40, 'Intervalo': 20, 'Volt...</td>\n",
       "    </tr>\n",
       "  </tbody>\n",
       "</table>\n",
       "</div>"
      ],
      "text/plain": [
       "                                                    Rafael\n",
       "Segunda  {'Ida': 60, 'Aula': 160, 'Intervalo': 20, 'Vol...\n",
       "Terça    {'Ida': 60, 'Aula': 80, 'Intervalo': 20, 'Volt...\n",
       "Quarta   {'Ida': 60, 'Aula': 80, 'Intervalo': 20, 'Volt...\n",
       "Quinta   {'Ida': 60, 'Aula': 160, 'Intervalo': 20, 'Vol...\n",
       "Sexta    {'Ida': 60, 'Aula': 40, 'Intervalo': 20, 'Volt..."
      ]
     },
     "execution_count": 25,
     "metadata": {},
     "output_type": "execute_result"
    }
   ],
   "source": [
    "# Bom, aparentemente a tabelinha tá funcionando, mas tá fei (rorosa)! E se eu quiser ajustar essa tabelinha pra mudar de tamanho e separar as informações de forma melhor?\n",
    "\n",
    "df"
   ]
  },
  {
   "cell_type": "markdown",
   "id": "91c21766-2629-4d85-84f0-1edd646cced2",
   "metadata": {},
   "source": [
    "Pronto. Agora temos todos os dias da semana do meu dia-a-dia - só os dias úteis, claro; no fim de semana, estudo de casa.\n",
    "Mas eu pensei aqui comigo enquanto escrevia - apenas esses dados são o suficiente pra chegar a algumas conclusões (além da de que eu definitivamente passo muito tempo de translado por dia)?\n",
    "\n",
    "Que tal a gente incrementar um pouquinho mais com umas informações extras?"
   ]
  }
 ],
 "metadata": {
  "kernelspec": {
   "display_name": "Python 3 (ipykernel)",
   "language": "python",
   "name": "python3"
  },
  "language_info": {
   "codemirror_mode": {
    "name": "ipython",
    "version": 3
   },
   "file_extension": ".py",
   "mimetype": "text/x-python",
   "name": "python",
   "nbconvert_exporter": "python",
   "pygments_lexer": "ipython3",
   "version": "3.10.11"
  }
 },
 "nbformat": 4,
 "nbformat_minor": 5
}
