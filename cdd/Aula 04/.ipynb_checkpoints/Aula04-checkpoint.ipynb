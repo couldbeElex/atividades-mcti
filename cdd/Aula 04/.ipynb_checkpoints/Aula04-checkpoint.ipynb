{
 "cells": [
  {
   "cell_type": "markdown",
   "id": "a8bf0b81-35fb-46d3-bdbd-f6abba713676",
   "metadata": {},
   "source": [
    "#### Problema:\n",
    "Crie um programa em Python que ajuda um usuário a descobrir se ele está apto para dirigir. O programa deve seguir as seguintes etapas:\n",
    "\n",
    "Solicitar a idade do usuário e verificar se ele tem idade mínima de 18 anos para dirigir.\n",
    "Perguntar se ele possui carteira de habilitação.\n",
    "Verificar se ele está sem pontos na carteira.\n",
    "Se todas as condições forem atendidas, o programa deve informar que o usuário está apto para dirigir.\n",
    "Caso contrário, deve informar as restrições específicas que o impedem."
   ]
  },
  {
   "cell_type": "markdown",
   "id": "c42e43e2-3558-4930-93d1-b996da662b00",
   "metadata": {},
   "source": [
    "snake_case para variáveis, funções e métodos;\n",
    "PascalCase para classes;\n",
    "SCREAMING_SNAKE_CASE para constantes."
   ]
  },
  {
   "cell_type": "code",
   "execution_count": 40,
   "id": "68151b73-8909-4bed-b19d-e05167ba40cd",
   "metadata": {},
   "outputs": [],
   "source": [
    "blacklist = ['012345678', '000000001', '123456789']"
   ]
  },
  {
   "cell_type": "code",
   "execution_count": 48,
   "id": "2fdb63ba-0e80-4fae-9970-c1ab9d0af3d6",
   "metadata": {},
   "outputs": [
    {
     "name": "stdout",
     "output_type": "stream",
     "text": [
      "Vamos verificar se você já pode dirigir!\n"
     ]
    }
   ],
   "source": [
    "print(f'Vamos verificar se você já pode dirigir!')"
   ]
  },
  {
   "cell_type": "code",
   "execution_count": 53,
   "id": "a4cea2b0-5955-4065-84f3-1930636e990f",
   "metadata": {},
   "outputs": [
    {
     "name": "stdin",
     "output_type": "stream",
     "text": [
      "Insira sua idade: 22\n"
     ]
    }
   ],
   "source": [
    "user_age = int(input(f'Insira sua idade:'))"
   ]
  },
  {
   "cell_type": "code",
   "execution_count": 61,
   "id": "7c5000bd-2332-4da2-bd89-6ce5c2d84247",
   "metadata": {},
   "outputs": [
    {
     "name": "stdout",
     "output_type": "stream",
     "text": [
      "Certo! Vejo que você tem 22 anos. Você já possui uma CNH (Carteira Nacional de Habilitação)?\n"
     ]
    },
    {
     "name": "stdin",
     "output_type": "stream",
     "text": [
      "Digite S para SIM e N para NÃO: s\n",
      "Digite os nove primeiros digitos da sua CNH: 123456789\n"
     ]
    }
   ],
   "source": [
    "print(f'Certo! Vejo que você tem {user_age} anos. Você já possui uma CNH (Carteira Nacional de Habilitação)?')\n",
    "has_licence = input(f'Digite S para SIM e N para NÃO:').strip().lower()\n",
    "if has_licence == 's' or has_licence == 'sim':\n",
    "    cnh_id = str(input(f'Digite os nove primeiros digitos da sua CNH:'))"
   ]
  },
  {
   "cell_type": "code",
   "execution_count": 62,
   "id": "40ac1436-93c7-4c38-9222-b14cd8f2cace",
   "metadata": {},
   "outputs": [
    {
     "name": "stdout",
     "output_type": "stream",
     "text": [
      "Sinto muito, mas você tem pontos na sua CNH.\n"
     ]
    }
   ],
   "source": [
    "if user_age < 18:\n",
    "    print(f'Sinto muito, você não pode dirigir por ser menor de idade.')\n",
    "elif has_licence != 's' and has_licence != 'sim':\n",
    "    print(f'Sinto muito, você não pode dirigir pois não possui uma Carteira Nacional de Habilitação.')\n",
    "elif cnh_id in blacklist:\n",
    "    print(f'Sinto muito, mas você tem pontos na sua CNH.')\n",
    "else:\n",
    "    print(f'Parabéns, você pode dirigir!')"
   ]
  },
  {
   "cell_type": "code",
   "execution_count": null,
   "id": "65127e8d-9f85-4ab4-b38d-5e9773a52b22",
   "metadata": {},
   "outputs": [],
   "source": []
  }
 ],
 "metadata": {
  "kernelspec": {
   "display_name": "Python 3 (ipykernel)",
   "language": "python",
   "name": "python3"
  },
  "language_info": {
   "codemirror_mode": {
    "name": "ipython",
    "version": 3
   },
   "file_extension": ".py",
   "mimetype": "text/x-python",
   "name": "python",
   "nbconvert_exporter": "python",
   "pygments_lexer": "ipython3",
   "version": "3.10.11"
  }
 },
 "nbformat": 4,
 "nbformat_minor": 5
}
