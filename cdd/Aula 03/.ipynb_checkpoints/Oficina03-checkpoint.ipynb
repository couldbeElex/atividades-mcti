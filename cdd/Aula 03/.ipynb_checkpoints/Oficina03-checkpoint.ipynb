{
 "cells": [
  {
   "cell_type": "markdown",
   "id": "dd6b6925-29c4-47a9-896b-2fe913b125d8",
   "metadata": {},
   "source": [
    "### Oficina 03"
   ]
  },
  {
   "cell_type": "markdown",
   "id": "bcb2bd98-c598-4ba2-8b21-1467f08ff949",
   "metadata": {},
   "source": [
    "#### Questão 1:\n",
    "Suponha que você tem um array que armazena os nomes de cinco frutas: [“Maçã”, “Banana”, “Cereja”, “Damasco”, “Uva”]. \n",
    "Como você adicionaria uma nova fruta ao final do array e como removeria a fruta da terceira posição?"
   ]
  },
  {
   "cell_type": "code",
   "execution_count": 12,
   "id": "81835bf2-e8a0-46d7-8383-24324c17e610",
   "metadata": {},
   "outputs": [],
   "source": [
    "said_array = ['Maçã', 'Banana', 'Cereja', 'Damasco', 'Uva']"
   ]
  },
  {
   "cell_type": "code",
   "execution_count": 13,
   "id": "1320aea5-721e-4f1c-b8a0-39e903df6d4c",
   "metadata": {},
   "outputs": [],
   "source": [
    "said_array.append('Morango')\n",
    "# adiciona \"Morango\" ao fim da lista"
   ]
  },
  {
   "cell_type": "code",
   "execution_count": 14,
   "id": "2a6bc328-d86f-42a0-aa83-707d3e5660df",
   "metadata": {},
   "outputs": [],
   "source": [
    "said_array.remove(said_array[2])\n",
    "# remove a entrada 3 (índice 2) da lista"
   ]
  },
  {
   "cell_type": "code",
   "execution_count": 15,
   "id": "87a11f78-492e-4c92-80b6-f6dec5a903a8",
   "metadata": {},
   "outputs": [
    {
     "data": {
      "text/plain": [
       "['Maçã', 'Banana', 'Damasco', 'Uva', 'Morango']"
      ]
     },
     "execution_count": 15,
     "metadata": {},
     "output_type": "execute_result"
    }
   ],
   "source": [
    "said_array"
   ]
  },
  {
   "cell_type": "markdown",
   "id": "616c59c2-1001-409d-89de-8c540dd5af14",
   "metadata": {},
   "source": [
    "#### Questão 2:\n",
    " Imagine um array que armazena os nomes de três cores: “Azul”, “Vermelho” e “Amarelo”. \n",
    "Como você adicionaria a cor “Verde” ao início da lista e como removeria a segunda cor?"
   ]
  },
  {
   "cell_type": "code",
   "execution_count": 21,
   "id": "8097d128-9ee8-4a46-9fb4-3198b1a90778",
   "metadata": {},
   "outputs": [],
   "source": [
    "color_array = ['Azul', 'Vermelho', 'Amarelo']"
   ]
  },
  {
   "cell_type": "code",
   "execution_count": 22,
   "id": "740521a1-4d71-40c9-8cae-87d8ef2942c5",
   "metadata": {},
   "outputs": [],
   "source": [
    "color_array.insert(0, 'Verde')\n",
    "# insere, no índice 0, a string 'Verde'"
   ]
  },
  {
   "cell_type": "code",
   "execution_count": 28,
   "id": "168b6b1b-47d3-48e8-9880-6f76fb0e4e08",
   "metadata": {},
   "outputs": [],
   "source": [
    "color_array.remove(color_array[1])"
   ]
  },
  {
   "cell_type": "code",
   "execution_count": 29,
   "id": "aa44830a-c66b-4cd9-9701-375b667c95be",
   "metadata": {},
   "outputs": [
    {
     "data": {
      "text/plain": [
       "['Verde', 'Vermelho', 'Amarelo']"
      ]
     },
     "execution_count": 29,
     "metadata": {},
     "output_type": "execute_result"
    }
   ],
   "source": [
    "color_array"
   ]
  },
  {
   "cell_type": "markdown",
   "id": "7971c3c9-dd65-4af3-9ebc-ff8c30ad6b4a",
   "metadata": {},
   "source": [
    "#### Questão 3:\n",
    "Considere uma pilha utilizada para gerenciar uma sequência de livros. \n",
    "Se você adicionar três livros à pilha e depois remover o livro no topo, qual livro será o próximo no topo da pilha? Dê um exemplo com os livros “Livro A”, “Livro B” e “Livro C”."
   ]
  },
  {
   "cell_type": "code",
   "execution_count": 44,
   "id": "9504dc61-6df9-46a6-af55-01f5fdd2c8f9",
   "metadata": {},
   "outputs": [],
   "source": [
    "book_stack = []\n",
    "book_stack.append('Livro A')\n",
    "book_stack.append('Livro B')\n",
    "book_stack.append('Livro C')\n",
    "# adiciona três livros à pilha"
   ]
  },
  {
   "cell_type": "code",
   "execution_count": 45,
   "id": "75373243-e521-4a44-9517-b49cd254f966",
   "metadata": {},
   "outputs": [
    {
     "data": {
      "text/plain": [
       "'Livro C'"
      ]
     },
     "execution_count": 45,
     "metadata": {},
     "output_type": "execute_result"
    }
   ],
   "source": [
    "book_stack[-1]\n",
    "# exibe o ultimo item adicionado à pilha."
   ]
  },
  {
   "cell_type": "code",
   "execution_count": 46,
   "id": "e75c7e9a-e38c-407f-8fb1-beeb36f0addc",
   "metadata": {},
   "outputs": [
    {
     "data": {
      "text/plain": [
       "'Livro C'"
      ]
     },
     "execution_count": 46,
     "metadata": {},
     "output_type": "execute_result"
    }
   ],
   "source": [
    "book_stack.pop()\n",
    "# remove o ultimo iteme adicionado à pilha."
   ]
  },
  {
   "cell_type": "code",
   "execution_count": 47,
   "id": "d7fc5f25-5751-4b56-9b24-9e095485c6a8",
   "metadata": {},
   "outputs": [
    {
     "data": {
      "text/plain": [
       "['Livro A', 'Livro B']"
      ]
     },
     "execution_count": 47,
     "metadata": {},
     "output_type": "execute_result"
    }
   ],
   "source": [
    "book_stack"
   ]
  },
  {
   "cell_type": "markdown",
   "id": "00681284-45f9-4964-9b0f-2de49c0128e9",
   "metadata": {},
   "source": [
    "#### Questão 4:\n",
    "Imagine uma fila utilizada para gerenciar a ordem de atendimento em um consultório médico. \n",
    "Se quatro pacientes são adicionados à fila e dois são atendidos, quem serão os próximos dois pacientes na ordem de atendimento? Considere os pacientes “Paciente 1”, “Paciente 2”, “Paciente 3” e “Paciente 4”."
   ]
  },
  {
   "cell_type": "code",
   "execution_count": 62,
   "id": "7ba2448f-3950-45c1-a291-e009dc05c365",
   "metadata": {},
   "outputs": [],
   "source": [
    "line_list = ['Paciente 1', 'Paciente 2', 'Paciente 3', 'Paciente 4']"
   ]
  },
  {
   "cell_type": "code",
   "execution_count": 63,
   "id": "4fae21c6-e9a9-42b4-a8d6-7880f5be8ee5",
   "metadata": {},
   "outputs": [],
   "source": [
    "line_list.remove(line_list[1])\n",
    "line_list.remove(line_list[2])\n",
    "# remove dois valores na lista, já que o enunciado não especifica quais"
   ]
  },
  {
   "cell_type": "code",
   "execution_count": 66,
   "id": "3e1a46c7-c067-46f3-8fb7-8ed3cf523942",
   "metadata": {},
   "outputs": [
    {
     "data": {
      "text/plain": [
       "['Paciente 1', 'Paciente 3']"
      ]
     },
     "execution_count": 66,
     "metadata": {},
     "output_type": "execute_result"
    }
   ],
   "source": [
    "line_list\n",
    "# mostra os pacientes que restaram na fila, na ordem (primeiro, último)"
   ]
  },
  {
   "cell_type": "code",
   "execution_count": null,
   "id": "5ea48f2b-c02e-4db9-a59a-b4e16764c6b7",
   "metadata": {},
   "outputs": [],
   "source": []
  }
 ],
 "metadata": {
  "kernelspec": {
   "display_name": "Python 3 (ipykernel)",
   "language": "python",
   "name": "python3"
  },
  "language_info": {
   "codemirror_mode": {
    "name": "ipython",
    "version": 3
   },
   "file_extension": ".py",
   "mimetype": "text/x-python",
   "name": "python",
   "nbconvert_exporter": "python",
   "pygments_lexer": "ipython3",
   "version": "3.10.11"
  }
 },
 "nbformat": 4,
 "nbformat_minor": 5
}
